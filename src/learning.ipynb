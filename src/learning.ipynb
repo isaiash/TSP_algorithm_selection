{
  "nbformat": 4,
  "nbformat_minor": 0,
  "metadata": {
    "kernelspec": {
      "display_name": "Python 3",
      "language": "python",
      "name": "python3"
    },
    "language_info": {
      "codemirror_mode": {
        "name": "ipython",
        "version": 3
      },
      "file_extension": ".py",
      "mimetype": "text/x-python",
      "name": "python",
      "nbconvert_exporter": "python",
      "pygments_lexer": "ipython3",
      "version": "3.7.1"
    },
    "colab": {
      "provenance": []
    }
  },
  "cells": [
    {
      "cell_type": "code",
      "metadata": {
        "id": "4hy4x178DTVx"
      },
      "source": [
        "from collections import defaultdict\n",
        "from os import listdir\n",
        "from os.path import isfile, join\n",
        "from os import path\n",
        "import matplotlib.pyplot as plt\n",
        "import matplotlib\n",
        "import numpy as np\n",
        "from scipy.ndimage.interpolation import rotate\n",
        "from keras.utils import np_utils\n",
        "#import random"
      ],
      "execution_count": null,
      "outputs": []
    },
    {
      "cell_type": "code",
      "metadata": {
        "id": "7bzQCgdgDTV2"
      },
      "source": [
        "RESULTS_PATH = \"RESULTS/\"\n",
        "DATASET_PATH = \"DATASET/PUBLIC/\"\n",
        "SOLVERS = [\n",
        "    #\"GREEDY\",\n",
        "    \"CLK\",\n",
        "    \"LKH\",\n",
        "    \"CONCORDE\",\n",
        "    \"EAX\",\n",
        "    \"MAOS\",\n",
        "]\n",
        "SOLVERS_NAME = [\n",
        "    \"Chained Lin-Kernighan\",\n",
        "    \"Lin-Kernighan-Helsgaun\",\n",
        "    \"Concorde\",\n",
        "    \"Edge Assembly Crossover\",\n",
        "    \"Multiagent optimization system\"\n",
        "]\n",
        "DATASETS = {\n",
        "    \"TSPLIB\",\n",
        "    \"TNM\",\n",
        "    \"NATIONAL\",\n",
        "    \"VLSI\",\n",
        "    \"NETGEN\",\n",
        "    \"NETGENM\",\n",
        "    \"RUE\",\n",
        "    \"ART\",\n",
        "    \"TSPGEN\"\n",
        "}\n",
        "MAX_INT = 9223372036854775807"
      ],
      "execution_count": null,
      "outputs": []
    },
    {
      "cell_type": "code",
      "metadata": {
        "id": "pJiGcAO7WWSc"
      },
      "source": [
        "def create_timesteps(n_seconds, n_timesteps):\n",
        "    timesteps = np.logspace(1, 20, num=n_timesteps+1, base=2)-2 # escala logaritmica para los tiempos\n",
        "    timesteps = n_seconds*timesteps/timesteps.max()\n",
        "    timesteps = timesteps[1:]\n",
        "    return timesteps"
      ],
      "execution_count": null,
      "outputs": []
    },
    {
      "cell_type": "code",
      "metadata": {
        "id": "ognNt0i1DTV6"
      },
      "source": [
        "timesteps = create_timesteps(7200, 200)"
      ],
      "execution_count": null,
      "outputs": []
    },
    {
      "cell_type": "code",
      "metadata": {
        "id": "DTEZXIe2EiIw"
      },
      "source": [
        "from google.colab import drive\n",
        "drive.mount('/content/drive')"
      ],
      "execution_count": null,
      "outputs": []
    },
    {
      "cell_type": "code",
      "metadata": {
        "id": "qJPu0-awDTV-"
      },
      "source": [
        "X_train = np.load('X_train.npy')\n",
        "y_train = np.load('y_train.npy')\n",
        "X_test = np.load('X_test.npy')\n",
        "y_test = np.load('y_test.npy')"
      ],
      "execution_count": null,
      "outputs": []
    },
    {
      "cell_type": "code",
      "metadata": {
        "id": "Q6dMvoq2U4wg"
      },
      "source": [
        "y_train = np.load('/content/drive/My Drive/Colab Notebooks/TSP algorithm selection/y_train.npy')"
      ],
      "execution_count": null,
      "outputs": []
    },
    {
      "cell_type": "code",
      "metadata": {
        "id": "9YB11PYWDTWC"
      },
      "source": [
        "print(X_train.shape, y_train.shape, X_test.shape, y_test.shape)"
      ],
      "execution_count": null,
      "outputs": []
    },
    {
      "cell_type": "markdown",
      "metadata": {
        "id": "IGgO8EciDTWG"
      },
      "source": [
        "## Preparing Frames"
      ]
    },
    {
      "cell_type": "code",
      "metadata": {
        "id": "V_2CC31ZDTWH"
      },
      "source": [
        "set_limit = 5"
      ],
      "execution_count": null,
      "outputs": []
    },
    {
      "cell_type": "code",
      "metadata": {
        "id": "8smOuIR6DTWL"
      },
      "source": [
        "new_X_train = []\n",
        "\n",
        "for frame in X_train:\n",
        "    new_frame = np.zeros((100,100))\n",
        "    for i in range(100):\n",
        "        for j in range(100):\n",
        "            if frame[i,j] > set_limit:\n",
        "                new_frame[i,j] = 1\n",
        "            else:\n",
        "                new_frame[i,j] = frame[i,j]/5\n",
        "    new_X_train.append(new_frame)"
      ],
      "execution_count": null,
      "outputs": []
    },
    {
      "cell_type": "code",
      "metadata": {
        "id": "ULLp8xNlDTWQ"
      },
      "source": [
        "np.array(new_X_train).shape"
      ],
      "execution_count": null,
      "outputs": []
    },
    {
      "cell_type": "code",
      "metadata": {
        "id": "M92jHRZwDTWU"
      },
      "source": [
        "np.array(new_X_train).max()"
      ],
      "execution_count": null,
      "outputs": []
    },
    {
      "cell_type": "markdown",
      "metadata": {
        "id": "G7b2b6pxDTWX"
      },
      "source": [
        "## Preparing labels"
      ]
    },
    {
      "cell_type": "code",
      "metadata": {
        "id": "CTLSa5kkDTWY"
      },
      "source": [
        "def get_single_ranking(timeline,time_):\n",
        "    best_ = []\n",
        "    for num in range(5):\n",
        "        best_.append([*timeline[num][time_],num])\n",
        "    if [i[0] for i in best_] == [MAX_INT]*5:\n",
        "        return -1\n",
        "    #print([truncate(i, 0) for i in np.array(best_)[:,0]])\n",
        "    best_.sort(key=lambda x: x[1])\n",
        "    best_.sort(key=lambda x: x[0])\n",
        "    #print([truncate(i, 0) for i in np.array(best_)[:,0]])\n",
        "    return list(np.array(best_)[:,2])\n",
        "    #return list(np.array([best_ov[s] for s in SOLVERS]).argsort())\n",
        "\n",
        "def get_y_rank(y, categorical=False):\n",
        "    new_y = []\n",
        "    for y_ in y:\n",
        "        timeline = []\n",
        "        for ts in range(len(timesteps)):\n",
        "            rank = get_single_ranking(y_,ts)\n",
        "            if rank == -1:\n",
        "                if categorical:\n",
        "                    timeline.append(np_utils.to_categorical(0, 6))\n",
        "                else:\n",
        "                    timeline.append(0)\n",
        "            else:\n",
        "                if categorical:\n",
        "                    timeline.append(np_utils.to_categorical(rank[0]+1, 6))\n",
        "                else:\n",
        "                    timeline.append(rank[0]+1)\n",
        "        new_y.append(timeline)\n",
        "    new_y = np.array(new_y)\n",
        "    return new_y"
      ],
      "execution_count": null,
      "outputs": []
    },
    {
      "cell_type": "code",
      "metadata": {
        "id": "pVv6-3NlDTWd"
      },
      "source": [
        "cat_y_train = get_y_rank(y_train, categorical=True)"
      ],
      "execution_count": null,
      "outputs": []
    },
    {
      "cell_type": "code",
      "metadata": {
        "id": "iOOoEmukDTWi"
      },
      "source": [
        "cat_y_train.shape"
      ],
      "execution_count": null,
      "outputs": []
    },
    {
      "cell_type": "markdown",
      "metadata": {
        "id": "0-lvPWv_DTWm"
      },
      "source": [
        "## Neural Network"
      ]
    },
    {
      "cell_type": "code",
      "metadata": {
        "id": "uUyThgs8DTWm"
      },
      "source": [
        "from keras.datasets import mnist\n",
        "from keras.models import Sequential, load_model\n",
        "from keras.layers.core import Dense, Dropout, Activation, Reshape, RepeatVector\n",
        "from keras.layers.normalization import BatchNormalization\n",
        "from keras import activations"
      ],
      "execution_count": null,
      "outputs": []
    },
    {
      "cell_type": "code",
      "metadata": {
        "id": "IRJsOJgVDTWq"
      },
      "source": [
        "new_X_train=np.array(new_X_train)"
      ],
      "execution_count": null,
      "outputs": []
    },
    {
      "cell_type": "code",
      "metadata": {
        "id": "EYEvEDhfDTWt"
      },
      "source": [
        "# Flatten\n",
        "N_grid = 100\n",
        "new_X_train = new_X_train.reshape(len(new_X_train), N_grid**2)"
      ],
      "execution_count": null,
      "outputs": []
    },
    {
      "cell_type": "markdown",
      "metadata": {
        "id": "o-PAc__7DTWx"
      },
      "source": [
        "### Fully Connected"
      ]
    },
    {
      "cell_type": "code",
      "metadata": {
        "id": "ebGA4IPNDTWx"
      },
      "source": [
        "model = Sequential()\n",
        "model.add(Dense(512, input_shape=(N_grid**2,)))\n",
        "model.add(BatchNormalization())\n",
        "model.add(Activation('relu'))\n",
        "model.add(Dropout(0.2))\n",
        "\n",
        "model.add(Dense(256))\n",
        "model.add(BatchNormalization())\n",
        "model.add(Activation('relu'))\n",
        "model.add(Dropout(0.2))\n",
        "#model.add(Reshape((200,6)))\n",
        "model.add(Dense(200))\n",
        "#model.add(Activation('softmax'))\n",
        "model.add(Activation('linear'))"
      ],
      "execution_count": null,
      "outputs": []
    },
    {
      "cell_type": "code",
      "metadata": {
        "id": "BIqF0m5CDTW1"
      },
      "source": [
        "model.summary()"
      ],
      "execution_count": null,
      "outputs": []
    },
    {
      "cell_type": "code",
      "metadata": {
        "id": "43fa2W2IDTW5"
      },
      "source": [
        "model.compile(loss='categorical_crossentropy', metrics=['accuracy'], optimizer='adam')#categorical_crossentropy\n",
        "history = model.fit(new_X_train, cat_y_train, batch_size=256, epochs=250, verbose=2, validation_split = 0.3)"
      ],
      "execution_count": null,
      "outputs": []
    },
    {
      "cell_type": "code",
      "metadata": {
        "id": "3-uIeutZDTW8"
      },
      "source": [
        "print(history.history.keys())\n",
        "# summarize history for accuracy\n",
        "plt.plot(history.history['acc'])\n",
        "plt.plot(history.history['val_acc'])\n",
        "plt.title('model accuracy')\n",
        "plt.ylabel('accuracy')\n",
        "plt.xlabel('epoch')\n",
        "plt.legend(['train', 'test'], loc='upper left')\n",
        "plt.show()\n",
        "# summarize history for loss\n",
        "plt.plot(history.history['loss'])\n",
        "plt.plot(history.history['val_loss'])\n",
        "plt.title('model loss')\n",
        "plt.ylabel('loss')\n",
        "plt.xlabel('epoch')\n",
        "plt.legend(['train', 'test'], loc='upper left')\n",
        "plt.show()"
      ],
      "execution_count": null,
      "outputs": []
    },
    {
      "cell_type": "markdown",
      "metadata": {
        "id": "XuRZE4mXDTW_"
      },
      "source": [
        "### RNN"
      ]
    },
    {
      "cell_type": "code",
      "metadata": {
        "id": "i79cgXEmDTXA"
      },
      "source": [
        "from keras.layers import Bidirectional, LSTM, RepeatVector\n",
        "from keras.models import Sequential, Model\n",
        "from keras.layers import Reshape\n",
        "from keras.layers import Input"
      ],
      "execution_count": null,
      "outputs": []
    },
    {
      "cell_type": "code",
      "metadata": {
        "id": "kAFe2WnPhS4d"
      },
      "source": [
        "model = Sequential()\n",
        "#model.add(LSTM(64, input_shape=(1, 10000)))\n",
        "model.add(Dense(512, input_shape=(10000,)))\n",
        "model.add(Activation('relu'))\n",
        "model.add(Dropout(0.4))\n",
        "model.add(Dense(256))\n",
        "model.add(Activation('relu'))\n",
        "model.add(Dropout(0.4))\n",
        "model.add(Dense(128))\n",
        "model.add(Activation('relu'))\n",
        "model.add(Dropout(0.4))\n",
        "#model.add(LSTM(64))\n",
        "model.add(Dense(6))\n",
        "model.add(Activation('softmax'))\n",
        "model.summary()"
      ],
      "execution_count": null,
      "outputs": []
    },
    {
      "cell_type": "code",
      "metadata": {
        "id": "nl56gdQuvNZo"
      },
      "source": [
        "binary_y = np_utils.to_categorical(cat_y_train[:,-1], 6)"
      ],
      "execution_count": null,
      "outputs": []
    },
    {
      "cell_type": "code",
      "metadata": {
        "id": "O7tnOKJkzY89"
      },
      "source": [
        "summy = [0,0,0,0,0,0]\n",
        "for i in binary_y:\n",
        "  summy+=i"
      ],
      "execution_count": null,
      "outputs": []
    },
    {
      "cell_type": "code",
      "metadata": {
        "id": "iG9NM3TZztAP"
      },
      "source": [
        "summy"
      ],
      "execution_count": null,
      "outputs": []
    },
    {
      "cell_type": "code",
      "metadata": {
        "id": "DnL_i5GXhdDJ"
      },
      "source": [
        "model.compile(loss='mean_squared_error', optimizer='adam', metrics=['acc'])\n",
        "#model.fit(trainX, trainY, epochs=100, batch_size=1, verbose=2)\n",
        "history = model.fit(new_X_train.reshape(len(new_X_train),10000), binary_y, batch_size=512, epochs=50, verbose=2, validation_split = 0.3)"
      ],
      "execution_count": null,
      "outputs": []
    },
    {
      "cell_type": "code",
      "metadata": {
        "id": "UsbEskeHnbjU"
      },
      "source": [
        "print(history.history.keys())\n",
        "# summarize history for accuracy\n",
        "plt.plot(history.history['acc'])\n",
        "plt.plot(history.history['val_acc'])\n",
        "plt.title('model accuracy')\n",
        "plt.ylabel('accuracy')\n",
        "plt.xlabel('epoch')\n",
        "plt.legend(['train', 'test'], loc='upper left')\n",
        "plt.show()\n",
        "# summarize history for loss\n",
        "plt.plot(history.history['loss'])\n",
        "plt.plot(history.history['val_loss'])\n",
        "plt.title('model loss')\n",
        "plt.ylabel('loss')\n",
        "plt.xlabel('epoch')\n",
        "plt.legend(['train', 'test'], loc='upper left')\n",
        "plt.show()"
      ],
      "execution_count": null,
      "outputs": []
    },
    {
      "cell_type": "code",
      "metadata": {
        "id": "eNOQcsRoDTXD"
      },
      "source": [
        "\n",
        "inputs = Input(shape=(10000,))\n",
        "\n",
        "model = Dense(512)(inputs)\n",
        "model = RepeatVector(256)(model)\n",
        "model = LSTM(256, return_sequences=True)(model)\n",
        "#model = LSTM(64, return_sequences=True)(model)\n",
        "#model = RepeatVector(200)(model)\n",
        "#model = RepeatVector(200)(model)\n",
        "model = LSTM(200, return_sequences=False)(model)\n",
        "\n",
        "#model = RepeatVector(6)(model)\n",
        "\n",
        "model = Model(inputs, model)\n",
        "model.summary()"
      ],
      "execution_count": null,
      "outputs": []
    },
    {
      "cell_type": "code",
      "metadata": {
        "id": "UmOIWT_kDTXG"
      },
      "source": [
        "model.compile(loss='mse',optimizer='adam', metrics=['acc'])"
      ],
      "execution_count": null,
      "outputs": []
    },
    {
      "cell_type": "code",
      "metadata": {
        "id": "tOkPWwc0DTXJ"
      },
      "source": [
        "new_X_train.shape"
      ],
      "execution_count": null,
      "outputs": []
    },
    {
      "cell_type": "code",
      "metadata": {
        "id": "BmibNfmADTXM"
      },
      "source": [
        "cat_y_train.min()"
      ],
      "execution_count": null,
      "outputs": []
    },
    {
      "cell_type": "code",
      "metadata": {
        "id": "bzmW08rtDTXP"
      },
      "source": [
        "np.save(\"new_X_train.npy\", new_X_train.reshape(len(new_X_train),10000,1))\n",
        "np.save(\"cat_y_train.npy\", cat_y_train)"
      ],
      "execution_count": null,
      "outputs": []
    },
    {
      "cell_type": "code",
      "metadata": {
        "id": "TUpbBqIJDTXS"
      },
      "source": [
        "new_X_train = np.load(\"/content/drive/My Drive/Colab Notebooks/TSP algorithm selection/new_X_train.npy\")\n",
        "cat_y_train = np.load(\"/content/drive/My Drive/Colab Notebooks/TSP algorithm selection/cat_y_train.npy\")"
      ],
      "execution_count": null,
      "outputs": []
    },
    {
      "cell_type": "code",
      "metadata": {
        "id": "J5QikNQ7DTXW"
      },
      "source": [
        "history = model.fit(new_X_train.reshape(len(new_X_train),10000), cat_y_train, batch_size=254, epochs=20, verbose=2, validation_split = 0.3)"
      ],
      "execution_count": null,
      "outputs": []
    },
    {
      "cell_type": "code",
      "metadata": {
        "id": "yeB9x7dYDTXZ"
      },
      "source": [
        "print(history.history.keys())\n",
        "# summarize history for accuracy\n",
        "plt.plot(history.history['acc'])\n",
        "plt.plot(history.history['val_acc'])\n",
        "plt.title('model accuracy')\n",
        "plt.ylabel('accuracy')\n",
        "plt.xlabel('epoch')\n",
        "plt.legend(['train', 'test'], loc='upper left')\n",
        "plt.show()\n",
        "# summarize history for loss\n",
        "plt.plot(history.history['loss'])\n",
        "plt.plot(history.history['val_loss'])\n",
        "plt.title('model loss')\n",
        "plt.ylabel('loss')\n",
        "plt.xlabel('epoch')\n",
        "plt.legend(['train', 'test'], loc='upper left')\n",
        "plt.show()"
      ],
      "execution_count": null,
      "outputs": []
    },
    {
      "cell_type": "markdown",
      "metadata": {
        "id": "I3TRzPhtDTXc"
      },
      "source": [
        "## Predict"
      ]
    },
    {
      "cell_type": "code",
      "metadata": {
        "id": "u8bvO_JMDTXd"
      },
      "source": [
        "X_test = X_test.reshape(len(X_test), N_grid**2)"
      ],
      "execution_count": null,
      "outputs": []
    },
    {
      "cell_type": "code",
      "metadata": {
        "id": "VWv7JViIDTXj"
      },
      "source": [
        "cat_y_test = get_y_rank(y_test, categorical=False)"
      ],
      "execution_count": null,
      "outputs": []
    },
    {
      "cell_type": "code",
      "metadata": {
        "id": "FX-lWE9DDTXn"
      },
      "source": [
        "cat_y_test.shape"
      ],
      "execution_count": null,
      "outputs": []
    },
    {
      "cell_type": "code",
      "metadata": {
        "id": "ZFYvNnHxDTXs"
      },
      "source": [
        "pred = model.predict(X_test.reshape(len(X_test), N_grid**2))"
      ],
      "execution_count": null,
      "outputs": []
    },
    {
      "cell_type": "code",
      "metadata": {
        "id": "3c3CvHhSDTXv"
      },
      "source": [
        "pred.shape"
      ],
      "execution_count": null,
      "outputs": []
    },
    {
      "cell_type": "code",
      "metadata": {
        "id": "YoqQqraLDTXy"
      },
      "source": [
        "prediction = np.argmax(pred, axis=2)"
      ],
      "execution_count": null,
      "outputs": []
    },
    {
      "cell_type": "code",
      "metadata": {
        "id": "_K4oWdUIDTX1"
      },
      "source": [
        "i=18\n",
        "for predicted, real in zip (prediction[i] ,cat_y_test[i]):\n",
        "    print(predicted, real)"
      ],
      "execution_count": null,
      "outputs": []
    },
    {
      "cell_type": "code",
      "metadata": {
        "id": "GrbLJuEoDTX4"
      },
      "source": [
        "np.argmax(pred[i], axis=1)"
      ],
      "execution_count": null,
      "outputs": []
    },
    {
      "cell_type": "code",
      "metadata": {
        "id": "hK-lZxTgDTX7"
      },
      "source": [
        "pred = model.predict(X[i].reshape(1,10000))"
      ],
      "execution_count": null,
      "outputs": []
    },
    {
      "cell_type": "code",
      "metadata": {
        "id": "cjBTr8kBDTX-"
      },
      "source": [
        "pred[0].shape"
      ],
      "execution_count": null,
      "outputs": []
    },
    {
      "cell_type": "code",
      "metadata": {
        "id": "2rvuDLTU0MAw"
      },
      "source": [
        "import keras\n",
        "from keras.datasets import mnist\n",
        "from keras.models import Sequential\n",
        "from keras.layers import Dense, Dropout, Flatten\n",
        "from keras.layers import Conv2D, MaxPooling2D\n",
        "from keras import backend as K"
      ],
      "execution_count": null,
      "outputs": []
    },
    {
      "cell_type": "code",
      "metadata": {
        "id": "8GL6WSMy1Fwd"
      },
      "source": [
        "matrix_form = new_X_train.reshape(len(new_X_train),100,100)"
      ],
      "execution_count": null,
      "outputs": []
    },
    {
      "cell_type": "code",
      "metadata": {
        "id": "XBCeLOZK0Qv7"
      },
      "source": [
        "num_classes = 6\n",
        "# input image dimensions\n",
        "img_rows, img_cols = 100, 100\n",
        "input_shape = (img_rows, img_cols,1)"
      ],
      "execution_count": null,
      "outputs": []
    },
    {
      "cell_type": "code",
      "metadata": {
        "id": "0U_0aP8w0MEH"
      },
      "source": [
        "model = Sequential()\n",
        "model.add(Conv2D(32, kernel_size=(3, 3), activation='relu', input_shape=input_shape))\n",
        "model.add(Conv2D(64, (3, 3), activation='relu'))\n",
        "model.add(MaxPooling2D(pool_size=(2, 2)))\n",
        "model.add(Dropout(0.25))\n",
        "model.add(Flatten())\n",
        "model.add(Dense(128, activation='relu'))\n",
        "model.add(Dropout(0.5))\n",
        "model.add(Dense(num_classes, activation='softmax'))"
      ],
      "execution_count": null,
      "outputs": []
    },
    {
      "cell_type": "code",
      "metadata": {
        "id": "MPa5n6_90dGG"
      },
      "source": [
        "model.compile(loss=keras.losses.categorical_crossentropy,\n",
        "              optimizer=keras.optimizers.Adadelta(),\n",
        "              metrics=['accuracy'])"
      ],
      "execution_count": null,
      "outputs": []
    },
    {
      "cell_type": "code",
      "metadata": {
        "id": "B2RubAV90oW0"
      },
      "source": [
        "history = model.fit(new_X_train.reshape(len(new_X_train),100,100,1), binary_y, batch_size=128, epochs=10, verbose=2, validation_split = 0.3)"
      ],
      "execution_count": null,
      "outputs": []
    },
    {
      "cell_type": "code",
      "metadata": {
        "id": "BwvfXcDu0z1K"
      },
      "source": [
        "score = model.evaluate(x_test, y_test, verbose=0)\n",
        "print('Test loss:', score[0])\n",
        "print('Test accuracy:', score[1])"
      ],
      "execution_count": null,
      "outputs": []
    },
    {
      "cell_type": "code",
      "metadata": {
        "id": "4hSJzHIu-QhR"
      },
      "source": [],
      "execution_count": null,
      "outputs": []
    },
    {
      "cell_type": "code",
      "metadata": {
        "id": "JMOF7hBn-Qei"
      },
      "source": [],
      "execution_count": null,
      "outputs": []
    },
    {
      "cell_type": "code",
      "metadata": {
        "id": "FfAveYeu-QcJ"
      },
      "source": [],
      "execution_count": null,
      "outputs": []
    },
    {
      "cell_type": "code",
      "metadata": {
        "id": "cBH4IA3e-QZp"
      },
      "source": [
        "model = Sequential()\n",
        "model.add(Dense(16, input_shape=(10000,)))\n",
        "model.add(BatchNormalization())\n",
        "model.add(Activation('relu'))\n",
        "model.add(Dropout(0.4))\n",
        "\n",
        "model.add(Dense(8))\n",
        "#model.add(BatchNormalization())\n",
        "model.add(Activation('relu'))\n",
        "model.add(Dropout(0.4))\n",
        "\n",
        "#model.add(Dense(124))\n",
        "#model.add(Activation('relu'))\n",
        "#model.add(Dropout(0.5))\n",
        "\n",
        "model.add(Dense(6))\n",
        "model.add(Activation('softmax'))"
      ],
      "execution_count": null,
      "outputs": []
    },
    {
      "cell_type": "code",
      "metadata": {
        "id": "1inCNbnI-UDQ"
      },
      "source": [
        "# compiling the sequential model\n",
        "model.compile(loss='categorical_crossentropy', metrics=['accuracy'], optimizer='adam')"
      ],
      "execution_count": null,
      "outputs": []
    },
    {
      "cell_type": "code",
      "metadata": {
        "id": "sNJWQqUS-XB8"
      },
      "source": [
        "history = model.fit(\n",
        "          new_X_train.reshape(len(new_X_train),10000),\n",
        "          binary_y,\n",
        "          batch_size=128,\n",
        "          epochs=40,\n",
        "          verbose=2,\n",
        "          validation_split = 0.3)"
      ],
      "execution_count": null,
      "outputs": []
    },
    {
      "cell_type": "code",
      "metadata": {
        "id": "hRM6Hk_l_LKW"
      },
      "source": [
        "print(history.history.keys())\n",
        "# summarize history for accuracy\n",
        "plt.plot(history.history['accuracy'])\n",
        "plt.plot(history.history['val_accuracy'])\n",
        "plt.title('model accuracy')\n",
        "plt.ylabel('accuracy')\n",
        "plt.xlabel('epoch')\n",
        "plt.legend(['train', 'test'], loc='upper left')\n",
        "plt.show()\n",
        "# summarize history for loss\n",
        "plt.plot(history.history['loss'])\n",
        "plt.plot(history.history['val_loss'])\n",
        "plt.title('model loss')\n",
        "plt.ylabel('loss')\n",
        "plt.xlabel('epoch')\n",
        "plt.legend(['train', 'test'], loc='upper left')\n",
        "plt.show()"
      ],
      "execution_count": null,
      "outputs": []
    },
    {
      "cell_type": "code",
      "metadata": {
        "id": "RYFXM-rUF5A6"
      },
      "source": [],
      "execution_count": null,
      "outputs": []
    },
    {
      "cell_type": "code",
      "metadata": {
        "id": "FmdTlkONF5EV"
      },
      "source": [
        "from sklearn.ensemble import RandomForestClassifier\n",
        "from sklearn.datasets import make_classification\n",
        "clf = RandomForestClassifier(max_depth=2, n_estimators=50, random_state=0,verbose=1)"
      ],
      "execution_count": null,
      "outputs": []
    },
    {
      "cell_type": "code",
      "metadata": {
        "id": "jy620pcYGREa"
      },
      "source": [
        "clf.fit(new_X_train.reshape(len(new_X_train),10000), cat_y_train[:,-1])"
      ],
      "execution_count": null,
      "outputs": []
    },
    {
      "cell_type": "code",
      "metadata": {
        "id": "Y1N9HkD9GdFo"
      },
      "source": [
        "clf.score(new_X_train.reshape(len(new_X_train),10000), cat_y_train[:,-1])"
      ],
      "execution_count": null,
      "outputs": []
    },
    {
      "cell_type": "code",
      "metadata": {
        "id": "DAU_ZH88F_Ks"
      },
      "source": [
        "RandomForestClassifier(...)\n",
        "print(clf.predict([[0, 0, 0, 0]]))"
      ],
      "execution_count": null,
      "outputs": []
    }
  ]
}